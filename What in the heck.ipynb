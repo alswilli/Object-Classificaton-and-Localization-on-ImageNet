{
 "cells": [
  {
   "cell_type": "code",
   "execution_count": 11,
   "metadata": {},
   "outputs": [],
   "source": [
    "import numpy as np\n",
    "import os\n",
    "import pandas as pd\n",
    "from sklearn.metrics import accuracy_score\n",
    "\n",
    "from keras.preprocessing.image import ImageDataGenerator\n",
    "from keras.preprocessing.image import load_img, img_to_array\n",
    "from keras.models import load_model\n",
    "from keras.preprocessing import image\n",
    "\n",
    "import matplotlib.pyplot as plt\n",
    "%matplotlib inline\n",
    "\n",
    "import models.simpleConv as simpleConv\n",
    "\n",
    "\n",
    "dataPath = 'RealImageNet/ImageNetSubsample/Data/CLS-LOC'\n",
    "trainPath = os.path.join(dataPath, 'train')\n",
    "# testPath = os.path.join(dataPath, 'test')\n",
    "# validationPath = os.path.join(dataPath, 'val')\n",
    "\n",
    "img_width, img_height = 224, 224"
   ]
  },
  {
   "cell_type": "code",
   "execution_count": 12,
   "metadata": {},
   "outputs": [],
   "source": [
    "# from keras.preprocessing import image\n",
    "# get training data\n",
    "x_train = []\n",
    "y_train = []\n",
    "trainingFolders = [x for x in os.listdir(trainPath)]\n",
    "\n",
    "lines = [line.rstrip('\\n').split() for line in open('RealImageNet/LOC_synset_mapping.txt')]\n",
    "wnids_to_words = {line[0]:' '.join(line[1:]) for line in lines }\n",
    "\n",
    "train_bboxes = {} #{image_name: list(bboxes)}\n",
    "for id in trainingFolders:\n",
    "    boxesPath = os.path.join(\"RealImageNet\", \"LOC_train_solution.csv\")\n",
    "    lines = [line.rstrip('\\n').split(',') for line in open(boxesPath)][1:]\n",
    "    for line in lines:\n",
    "        imageId = line[0]\n",
    "        predictionString = line[1]\n",
    "        split = predictionString.split()\n",
    "        train_bboxes[imageId] = []\n",
    "        for i in range(0, len(split), 5):\n",
    "            box = split[i:i+5]\n",
    "            train_bboxes[imageId].append(box)\n",
    "\n",
    "for imageName in train_bboxes.keys():\n",
    "    imageLabel = imageName.split('_')[0]\n",
    "    imagePath = os.path.join(trainPath, imageLabel, imageName + \".JPEG\") #folder name\n",
    "    \n",
    "    if os.path.exists(imagePath):\n",
    "        img = image.load_img(imagePath, target_size=(224, 224)) #pil format\n",
    "        x = image.img_to_array(img) \n",
    "#         x = np.expand_dims(x, axis=0) # making a numpy array (surrounds with another lis)\n",
    "#         x_train.append(x/255.)\n",
    "        for box in train_bboxes[imageName]:\n",
    "            x_train.append(x/255.)\n",
    "            idk = [imageLabel[1:]]\n",
    "            y_train.append(idk)\n",
    "\n",
    "\n",
    "\n",
    "\n",
    "x_train = np.array(x_train)\n",
    "# x_train = np.expand_dims(x_train, axis= 1)\n",
    "y_train = np.array(y_train, dtype = 'uint')\n",
    "# y_train = np.expand_dims(y_train, axis= 0)\n",
    "\n",
    "\n",
    "from sklearn.preprocessing import LabelBinarizer\n",
    "from sklearn.model_selection import train_test_split\n",
    "\n",
    "label_encoder = LabelBinarizer()\n",
    "y_train = label_encoder.fit_transform(y_train)\n",
    "\n",
    "x_train, x_val, y_train, y_val = train_test_split(x_train, y_train, test_size = 0.2)\n",
    "\n"
   ]
  },
  {
   "cell_type": "code",
   "execution_count": 13,
   "metadata": {},
   "outputs": [
    {
     "data": {
      "text/plain": [
       "array([[0, 0, 1, 0, 0],\n",
       "       [1, 0, 0, 0, 0],\n",
       "       [0, 0, 0, 1, 0],\n",
       "       ...,\n",
       "       [0, 0, 0, 0, 1],\n",
       "       [0, 1, 0, 0, 0],\n",
       "       [0, 1, 0, 0, 0]])"
      ]
     },
     "execution_count": 13,
     "metadata": {},
     "output_type": "execute_result"
    }
   ],
   "source": [
    "y_train"
   ]
  },
  {
   "cell_type": "code",
   "execution_count": 23,
   "metadata": {},
   "outputs": [
    {
     "name": "stdout",
     "output_type": "stream",
     "text": [
      "Epoch 1/6\n",
      "2358/2358 [==============================] - 6s 2ms/step - loss: 1.0300 - acc: 0.5318A: 0s - loss: 1.0355 - acc: 0.\n",
      "Epoch 2/6\n",
      "2358/2358 [==============================] - 5s 2ms/step - loss: 0.8585 - acc: 0.6209A: 0s - loss: 0.8604 - acc: 0.6\n",
      "Epoch 3/6\n",
      "2358/2358 [==============================] - 5s 2ms/step - loss: 0.7475 - acc: 0.6692\n",
      "Epoch 4/6\n",
      "2358/2358 [==============================] - 5s 2ms/step - loss: 0.6790 - acc: 0.6964\n",
      "Epoch 5/6\n",
      "2358/2358 [==============================] - 5s 2ms/step - loss: 0.6205 - acc: 0.7277\n",
      "Epoch 6/6\n",
      "2358/2358 [==============================] - 5s 2ms/step - loss: 0.5321 - acc: 0.7718\n"
     ]
    },
    {
     "data": {
      "text/plain": [
       "<keras.callbacks.History at 0x18d7e8de0f0>"
      ]
     },
     "execution_count": 23,
     "metadata": {},
     "output_type": "execute_result"
    }
   ],
   "source": [
    "model = simpleConv.build_model(img_width, img_height, 3)\n",
    "model.compile(loss='categorical_crossentropy', optimizer='adam', metrics=['accuracy'])\n",
    "model.fit(x_train, y_train, epochs=6, verbose=1)"
   ]
  },
  {
   "cell_type": "code",
   "execution_count": 24,
   "metadata": {},
   "outputs": [
    {
     "name": "stdout",
     "output_type": "stream",
     "text": [
      "0.6915254237288135\n"
     ]
    },
    {
     "data": {
      "text/plain": [
       "0.7888040712468194"
      ]
     },
     "execution_count": 24,
     "metadata": {},
     "output_type": "execute_result"
    }
   ],
   "source": [
    "predictedModel = model.predict(x_val)\n",
    "predictedModel2 = model.predict(x_train)\n",
    "\n",
    "import pandas as pd\n",
    "from sklearn.metrics import accuracy_score\n",
    "\n",
    "dataframe = pd.DataFrame({'pred': label_encoder.inverse_transform(predictedModel), 'true': label_encoder.inverse_transform(y_val)})\n",
    "\n",
    "dataframe2 = pd.DataFrame({'pred': label_encoder.inverse_transform(predictedModel2), 'true': label_encoder.inverse_transform(y_train)})\n",
    "\n",
    "print(accuracy_score(dataframe.pred, dataframe.true))\n",
    "accuracy_score(dataframe2.pred, dataframe2.true)\n"
   ]
  },
  {
   "cell_type": "code",
   "execution_count": null,
   "metadata": {},
   "outputs": [],
   "source": []
  }
 ],
 "metadata": {
  "kernelspec": {
   "display_name": "Python 3",
   "language": "python",
   "name": "python3"
  },
  "language_info": {
   "codemirror_mode": {
    "name": "ipython",
    "version": 3
   },
   "file_extension": ".py",
   "mimetype": "text/x-python",
   "name": "python",
   "nbconvert_exporter": "python",
   "pygments_lexer": "ipython3",
   "version": "3.6.8"
  }
 },
 "nbformat": 4,
 "nbformat_minor": 2
}

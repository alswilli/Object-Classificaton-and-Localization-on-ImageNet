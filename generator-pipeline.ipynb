{
 "cells": [
  {
   "cell_type": "code",
   "execution_count": 1,
   "metadata": {},
   "outputs": [
    {
     "name": "stderr",
     "output_type": "stream",
     "text": [
      "Using TensorFlow backend.\n"
     ]
    },
    {
     "name": "stdout",
     "output_type": "stream",
     "text": [
      "Checking to make sure output directories are created..\n",
      "..done\n"
     ]
    }
   ],
   "source": [
    "%load_ext autoreload\n",
    "%autoreload 2\n",
    "from keras.applications.vgg16 import VGG16\n",
    "\n",
    "import numpy as np\n",
    "import os\n",
    "import pandas as pd\n",
    "from sklearn.metrics import accuracy_score\n",
    "\n",
    "from keras.preprocessing.image import ImageDataGenerator\n",
    "from keras.preprocessing.image import load_img, img_to_array\n",
    "from keras.models import load_model\n",
    "from keras.preprocessing import image\n",
    "from keras.callbacks import EarlyStopping, ModelCheckpoint\n",
    "import keras\n",
    "\n",
    "from sklearn.preprocessing import LabelBinarizer\n",
    "from sklearn.preprocessing import StandardScaler\n",
    "from sklearn.model_selection import train_test_split\n",
    "\n",
    "import matplotlib.pyplot as plt\n",
    "%matplotlib inline\n",
    "\n",
    "import models.simpleConv as simpleConv\n",
    "# import models.betterConv as betterConv\n",
    "from imgaug import augmenters as iaa\n",
    "\n",
    "import h5py\n",
    "from imgaug import augmenters as iaa\n",
    "from keras.utils import np_utils\n",
    "\n",
    "import utils\n",
    "import preprocessing as pp\n",
    "pp.init()\n",
    "\n",
    "allTrainingFolders = [x for x in os.listdir(pp.trainPath) if x.startswith('n')]\n",
    "trainingFolders = allTrainingFolders[0:5]"
   ]
  },
  {
   "cell_type": "code",
   "execution_count": null,
   "metadata": {},
   "outputs": [],
   "source": [
    "encoder = LabelBinarizer()\n",
    "##MAKE SURE classLabels is set to ALL the folders you will train on, even if doing in batches\n",
    "encoder = encoder.fit(trainingFolders) \n",
    "\n",
    "parse = False\n",
    "train = True\n",
    "saveModel = False\n",
    "includeAugmented = False\n",
    "onlyAugmented = False\n",
    "\n",
    "augments = [iaa.GaussianBlur(3.0)]\n",
    "h5filename = 'all.h5'\n",
    "\n",
    "if parse:\n",
    "    if os.path.isfile(os.path.join(pp.h5Path, h5filename)):\n",
    "        os.remove(os.path.join(pp.h5Path, h5filename))\n",
    "    pp.parseImages(trainingFolders, h5filename)\n",
    "    \n",
    "#NOTE: KEEP BATCH SIZE = # of all folders for now because we need to shuffle H5. \n",
    "\n",
    "\n",
    "callbacks = []\n",
    "epochs = 5\n",
    "sgd = keras.optimizers.SGD(lr=0.01, decay=1e-6, momentum=0.9, nesterov=True)\n",
    "model = simpleConv.build_model(len(encoder.classes_))\n",
    "model.compile(loss='categorical_crossentropy', optimizer='adam', metrics=['accuracy'])\n",
    "\n",
    "\n",
    "h5file = os.path.join(pp.h5Path, h5filename)\n",
    "\n",
    "\n",
    "batch_size = 64\n",
    "\n",
    "##FIT MODEL\n",
    "if train:\n",
    "    train_generator = pp.DataGenerator(h5file, trainingFolders, batch_size=64)\n",
    "    print(len(train_generator))\n",
    "    results = model.fit_generator(train_generator, epochs=epochs, callbacks = callbacks, verbose=1,\n",
    "                              use_multiprocessing=False, workers=2)\n",
    "\n",
    "    if saveModel:\n",
    "        count = 1\n",
    "        outputName = \"\"\n",
    "        while True:\n",
    "            k = ''\n",
    "            if includeAugmented:\n",
    "                k = 'with-aug'\n",
    "            if onlyAugmented:\n",
    "                k = 'aug-only'\n",
    "            s = pp.baseModelName.format(epoch, count, k) + \".h5\" \n",
    "            if not s in os.listdir(pp.outputModelPath):         \n",
    "                outputName = s         \n",
    "                break     \n",
    "            else:         \n",
    "                count+=1 \n",
    "        print(outputName)\n",
    "        model.save(os.path.join(pp.outputModelPath, outputName))\n"
   ]
  }
 ],
 "metadata": {
  "kernelspec": {
   "display_name": "Python 3",
   "language": "python",
   "name": "python3"
  },
  "language_info": {
   "codemirror_mode": {
    "name": "ipython",
    "version": 3
   },
   "file_extension": ".py",
   "mimetype": "text/x-python",
   "name": "python",
   "nbconvert_exporter": "python",
   "pygments_lexer": "ipython3",
   "version": "3.6.8"
  }
 },
 "nbformat": 4,
 "nbformat_minor": 2
}

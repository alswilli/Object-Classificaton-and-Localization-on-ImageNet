{
 "cells": [
  {
   "cell_type": "markdown",
   "metadata": {},
   "source": [
    "# Data Pipeline Outline:\n",
    "\n",
    "0. Imports and Configurations\n",
    "1. Import + Augment Training and Validation Data\n",
    "2. Data Processing\n",
    "3. Fit Model & Save Weights\n",
    "4. Testing & Postprocessing (Graphs, Metrics, Output Examples, etc.)\n",
    "\n"
   ]
  },
  {
   "cell_type": "markdown",
   "metadata": {},
   "source": [
    "# 0. Imports and Configurations"
   ]
  },
  {
   "cell_type": "code",
   "execution_count": 4,
   "metadata": {},
   "outputs": [],
   "source": [
    "import numpy as np\n",
    "import os\n",
    "from keras.preprocessing.image import ImageDataGenerator\n",
    "from keras.models import load_model\n",
    "from models.simpleConv import build_model\n",
    "import matplotlib.pyplot as plt\n",
    "%matplotlib inline\n",
    "\n",
    "\n",
    "dataPath = 'RealImageNet/ImageNetSubsample/Data/CLS-LOC'\n",
    "trainPath = os.path.join(dataPath, 'train')\n",
    "testPath = os.path.join(dataPath, 'test')\n",
    "validationPath = os.path.join(dataPath, 'val')\n",
    "\n",
    "img_width, img_height = 224, 224\n",
    "\n",
    "useGrayscale=False\n",
    "if useGrayscale:\n",
    "    color_mode='grayscale'\n",
    "    num_channels=1\n",
    "else:\n",
    "    color_mode='rgb'\n",
    "    num_channels=3\n",
    "    \n",
    "    \n",
    "outputPath = os.path.join('output','saved-models')\n",
    "\n",
    "saveModel = True\n",
    "loadModel = False\n",
    "if(loadModel):\n",
    "    loadModelPath = os.path.join(outputPath, \"model1.h5\")\n",
    "    if not os.path.exists(loadModelPath):\n",
    "        print(\"No such model file: \" + loadModelPath)\n",
    "\n",
    "\n",
    "modelName = \"model1\"\n",
    "\n",
    "if not os.path.isdir(outputPath):\n",
    "    os.makedirs(outputPath)\n",
    "    \n",
    "    "
   ]
  },
  {
   "cell_type": "markdown",
   "metadata": {},
   "source": [
    "# 1. Load Training and Validation Data\n"
   ]
  },
  {
   "cell_type": "code",
   "execution_count": 5,
   "metadata": {},
   "outputs": [
    {
     "name": "stdout",
     "output_type": "stream",
     "text": [
      "Found 5850 images belonging to 5 classes.\n",
      "Found 650 images belonging to 5 classes.\n"
     ]
    }
   ],
   "source": [
    "\n",
    "train_datagen = ImageDataGenerator(rescale=1./255, \n",
    "                                   shear_range=0.2, \n",
    "                                   zoom_range=0.2, \n",
    "                                   horizontal_flip=True, \n",
    "                                   validation_split=0.1)\n",
    "\n",
    "\n",
    "    \n",
    "train_generator = train_datagen.flow_from_directory('RealImageNet/ImageNetSubsample/Data/CLS-LOC/train',\n",
    "                                                   target_size=(img_width, img_height),\n",
    "                                                   batch_size=16,\n",
    "                                                   class_mode='categorical',\n",
    "                                                   color_mode=color_mode,\n",
    "                                                   subset='training')\n",
    "\n",
    "\n",
    "\n",
    "val_generator = train_datagen.flow_from_directory('RealImageNet/ImageNetSubsample/Data/CLS-LOC/train',\n",
    "                                                   target_size=(img_width, img_height),\n",
    "                                                   batch_size=16,\n",
    "                                                   class_mode='categorical',\n",
    "                                                   color_mode='rgb',\n",
    "                                                   subset='validation')\n",
    "\n",
    "\n",
    "\n"
   ]
  },
  {
   "cell_type": "markdown",
   "metadata": {},
   "source": [
    "# 2. Data Processing\n",
    "\n"
   ]
  },
  {
   "cell_type": "markdown",
   "metadata": {},
   "source": [
    "# 3. Fit Model & Save Weights"
   ]
  },
  {
   "cell_type": "code",
   "execution_count": null,
   "metadata": {
    "scrolled": true
   },
   "outputs": [
    {
     "name": "stdout",
     "output_type": "stream",
     "text": [
      "model5.h5\n",
      "Epoch 1/10\n",
      "100/100 [==============================] - 34s 338ms/step - loss: 0.4162 - acc: 0.8135 - val_loss: 0.3721 - val_acc: 0.8286\n",
      "Epoch 2/10\n",
      "100/100 [==============================] - 31s 308ms/step - loss: 0.3437 - acc: 0.8405 - val_loss: 0.3298 - val_acc: 0.8505\n",
      "Epoch 3/10\n",
      "100/100 [==============================] - 31s 309ms/step - loss: 0.3214 - acc: 0.8560 - val_loss: 0.3033 - val_acc: 0.8575\n",
      "Epoch 4/10\n",
      "100/100 [==============================] - 29s 290ms/step - loss: 0.3259 - acc: 0.8511 - val_loss: 0.3052 - val_acc: 0.8603\n",
      "Epoch 5/10\n",
      "100/100 [==============================] - 26s 256ms/step - loss: 0.3071 - acc: 0.8586 - val_loss: 0.2899 - val_acc: 0.8622\n",
      "Epoch 6/10\n",
      "100/100 [==============================] - 26s 256ms/step - loss: 0.3027 - acc: 0.8584 - val_loss: 0.2881 - val_acc: 0.8631\n",
      "Epoch 7/10\n",
      "100/100 [==============================] - 26s 261ms/step - loss: 0.2960 - acc: 0.8609 - val_loss: 0.2957 - val_acc: 0.8655\n",
      "Epoch 8/10\n",
      "100/100 [==============================] - 25s 253ms/step - loss: 0.3013 - acc: 0.8596 - val_loss: 0.2837 - val_acc: 0.8643\n",
      "Epoch 9/10\n",
      " 63/100 [=================>............] - ETA: 6s - loss: 0.3038 - acc: 0.8579"
     ]
    }
   ],
   "source": [
    "count = 1 \n",
    "name = \"\" \n",
    "while True:     \n",
    "    s = modelName[:-1] + str(count) + \".h5\"     \n",
    "    if not s in os.listdir(outputPath):         \n",
    "        name = s         \n",
    "        break     \n",
    "    else:         \n",
    "        count+=1 \n",
    "print(name)\n",
    "\n",
    "if loadModel:\n",
    "    model = load_model(loadModelPath)\n",
    "else:\n",
    "    model = build_model(img_width, img_height, num_channels)\n",
    "    model.compile(loss='binary_crossentropy',\n",
    "                  optimizer='adam',\n",
    "                  metrics=['accuracy'])\n",
    "\n",
    "    results = model.fit_generator(\n",
    "            train_generator,\n",
    "            validation_data=val_generator,\n",
    "            steps_per_epoch=100,\n",
    "            epochs=10)\n",
    "\n",
    "\n",
    "if saveModel:\n",
    "    model.save(os.path.join(outputPath, name))"
   ]
  },
  {
   "cell_type": "markdown",
   "metadata": {},
   "source": [
    "# 4. Testing & Post-Processing (Metrics, Graphs, etc.)"
   ]
  },
  {
   "cell_type": "code",
   "execution_count": 12,
   "metadata": {},
   "outputs": [
    {
     "data": {
      "image/png": "[encoded data removed]",
      "text/plain": [
       "<Figure size 432x288 with 1 Axes>"
      ]
     },
     "metadata": {
      "needs_background": "light"
     },
     "output_type": "display_data"
    },
    {
     "data": {
      "image/png": "[encoded data removed]",
      "text/plain": [
       "<Figure size 432x288 with 1 Axes>"
      ]
     },
     "metadata": {
      "needs_background": "light"
     },
     "output_type": "display_data"
    }
   ],
   "source": [
    "\n",
    "\n",
    "# Plot training & validation accuracy values\n",
    "plt.plot(results.history['acc'])\n",
    "plt.plot(results.history['val_acc'])\n",
    "plt.title('Model accuracy')\n",
    "plt.ylabel('Accuracy')\n",
    "plt.ylim(0.5, 1.0)\n",
    "plt.xlabel('Epoch')\n",
    "plt.legend(['Train', 'Val'], loc='upper left')\n",
    "plt.show()\n",
    "\n",
    "# Plot training & validation loss values\n",
    "plt.plot(results.history['loss'])\n",
    "plt.plot(results.history['val_loss'])\n",
    "plt.title('Model loss')\n",
    "plt.ylabel('Loss')\n",
    "plt.ylim(0, 0.7)\n",
    "plt.xlabel('Epoch')\n",
    "plt.legend(['Train', 'Val'], loc='upper left')\n",
    "plt.show()"
   ]
  },
  {
   "cell_type": "code",
   "execution_count": null,
   "metadata": {},
   "outputs": [],
   "source": []
  }
 ],
 "metadata": {
  "kernelspec": {
   "display_name": "Python 3",
   "language": "python",
   "name": "python3"
  },
  "language_info": {
   "codemirror_mode": {
    "name": "ipython",
    "version": 3
   },
   "file_extension": ".py",
   "mimetype": "text/x-python",
   "name": "python",
   "nbconvert_exporter": "python",
   "pygments_lexer": "ipython3",
   "version": "3.6.8"
  }
 },
 "nbformat": 4,
 "nbformat_minor": 2
}

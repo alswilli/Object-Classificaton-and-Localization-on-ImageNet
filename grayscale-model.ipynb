{
 "cells": [
  {
   "cell_type": "markdown",
   "metadata": {},
   "source": [
    "# Parse images into input vector from training set"
   ]
  },
  {
   "cell_type": "code",
   "execution_count": 1,
   "metadata": {},
   "outputs": [],
   "source": [
    "# from IPython.core.display import display, HTML\n",
    "# display(HTML(\"<style>.container { width:100% !important; }</style>\"))\n",
    "\n",
    "import numpy as np\n",
    "import os\n",
    "\n",
    "dataPath = 'RealImageNet/ImageNetSubsample/Data/CLS-LOC'\n",
    "trainPath = os.path.join(dataPath, 'train')\n",
    "testPath = os.path.join(dataPath, 'test')\n",
    "validationPath = os.path.join(dataPath, 'val')\n",
    "\n"
   ]
  },
  {
   "cell_type": "code",
   "execution_count": 2,
   "metadata": {},
   "outputs": [
    {
     "name": "stderr",
     "output_type": "stream",
     "text": [
      "Using TensorFlow backend.\n"
     ]
    }
   ],
   "source": [
    "from keras.preprocessing import image\n",
    "# get training data\n",
    "x_train = []\n",
    "y_train = []\n",
    "trainingFolders = [x for x in os.listdir(trainPath)]\n",
    "\n",
    "lines = [line.rstrip('\\n').split() for line in open('RealImageNet/LOC_synset_mapping.txt')]\n",
    "# print(lines)\n",
    "wnids_to_words = {line[0]:' '.join(line[1:]) for line in lines }\n",
    "\n",
    "train_bboxes = {} #{image_name: list(bboxes)}\n",
    "for id in trainingFolders:\n",
    "    boxesPath = os.path.join(\"RealImageNet\", \"LOC_train_solution.csv\")\n",
    "    lines = [line.rstrip('\\n').split(',') for line in open(boxesPath)][1:]\n",
    "    for line in lines:\n",
    "        imageId = line[0]\n",
    "        predictionString = line[1]\n",
    "        split = predictionString.split()\n",
    "        train_bboxes[imageId] = []\n",
    "        for i in range(0, len(split), 5):\n",
    "            box = split[i:i+5]\n",
    "            train_bboxes[imageId].append(box)\n",
    "\n",
    "for imageName in train_bboxes.keys():\n",
    "    imageLabel = imageName.split('_')[0]\n",
    "    imagePath = os.path.join(trainPath, imageLabel, imageName + \".JPEG\") #folder name\n",
    "    \n",
    "    if os.path.exists(imagePath):\n",
    "        img = image.load_img(imagePath, target_size=(224, 224)) #pil format\n",
    "        x = image.img_to_array(img) \n",
    "#         x = np.expand_dims(x, axis=0) # making a numpy array (surrounds with another lis)\n",
    "#         x_train.append(x/255.)\n",
    "        for box in train_bboxes[imageName]:\n",
    "            x_train.append(x/255.)\n",
    "            idk = [imageLabel[1:]]\n",
    "            y_train.append(idk)\n",
    "\n",
    "\n",
    "\n",
    "\n",
    "x_train = np.array(x_train)\n",
    "# x_train = np.expand_dims(x_train, axis= 1)\n",
    "y_train = np.array(y_train, dtype = 'uint')\n",
    "# y_train = np.expand_dims(y_train, axis= 0)\n",
    "\n",
    "\n",
    "from sklearn.preprocessing import LabelBinarizer\n",
    "label_encoder = LabelBinarizer()\n",
    "y_train = label_encoder.fit_transform(y_train)\n",
    "\n",
    "# print(transfomed_label)\n"
   ]
  },
  {
   "cell_type": "markdown",
   "metadata": {},
   "source": [
    "# ImageDataGenerator - GrayScale"
   ]
  },
  {
   "cell_type": "code",
   "execution_count": 47,
   "metadata": {},
   "outputs": [
    {
     "name": "stdout",
     "output_type": "stream",
     "text": [
      "Found 6500 images belonging to 5 classes.\n"
     ]
    }
   ],
   "source": [
    "from keras.preprocessing.image import ImageDataGenerator\n",
    "\n",
    "train_datagen = ImageDataGenerator(rescale=1./255, shear_range=0.2, zoom_range=0.2, horizontal_flip=True)\n",
    "\n",
    "train_generator = train_datagen.flow_from_directory('RealImageNet/ImageNetSubsample/Data/CLS-LOC/train',\n",
    "                                                   target_size=(224, 224),\n",
    "                                                   batch_size=16,\n",
    "                                                   class_mode='categorical',\n",
    "                                                   color_mode='grayscale')\n",
    "\n",
    "\n",
    "\n",
    "\n",
    "\n"
   ]
  },
  {
   "cell_type": "code",
   "execution_count": null,
   "metadata": {},
   "outputs": [],
   "source": [
    "y_train"
   ]
  },
  {
   "cell_type": "code",
   "execution_count": null,
   "metadata": {},
   "outputs": [],
   "source": [
    "np.max(y_train_boxes)"
   ]
  },
  {
   "cell_type": "code",
   "execution_count": null,
   "metadata": {},
   "outputs": [],
   "source": [
    "x_train"
   ]
  },
  {
   "cell_type": "code",
   "execution_count": null,
   "metadata": {},
   "outputs": [],
   "source": [
    "y_train_boxes"
   ]
  },
  {
   "cell_type": "code",
   "execution_count": null,
   "metadata": {},
   "outputs": [],
   "source": [
    "y_train.shape"
   ]
  },
  {
   "cell_type": "code",
   "execution_count": null,
   "metadata": {},
   "outputs": [],
   "source": [
    "x_train.shape"
   ]
  },
  {
   "cell_type": "code",
   "execution_count": 3,
   "metadata": {},
   "outputs": [],
   "source": [
    "# get validation data\n",
    "\n",
    "validation_bboxes = {} #{image_name: list(bboxes)}\n",
    "# for id in trainingFolders:\n",
    "valBoxesPath = os.path.join(\"RealImageNet\", \"LOC_val_solution.csv\")\n",
    "lines = [line.rstrip('\\n').split(',') for line in open(valBoxesPath)][1:]\n",
    "for line in lines:\n",
    "    imageId = line[0]\n",
    "    predictionString = line[1]\n",
    "    split = predictionString.split()\n",
    "    validation_bboxes[imageId] = []\n",
    "    for i in range(0, len(split), 5):\n",
    "        box = split[i:i+5]\n",
    "        validation_bboxes[imageId].append(box)\n",
    "\n",
    "for imageName in validation_bboxes.keys():\n",
    "    imagePath = os.path.join(validationPath, imageName + \".JPEG\")\n",
    "    if os.path.exists(imagePath):\n",
    "        img = image.load_img(imagePath, target_size=(224, 224)) #pil format\n",
    "        x = image.img_to_array(img)  \n",
    "\n",
    "\n",
    "# get test data"
   ]
  },
  {
   "cell_type": "markdown",
   "metadata": {},
   "source": [
    "# Set up and train model "
   ]
  },
  {
   "cell_type": "code",
   "execution_count": 48,
   "metadata": {
    "scrolled": true
   },
   "outputs": [
    {
     "name": "stdout",
     "output_type": "stream",
     "text": [
      "Epoch 1/100\n",
      "3/3 [==============================] - 3s 923ms/step - loss: 0.6189 - acc: 0.6125\n",
      "Epoch 2/100\n",
      "3/3 [==============================] - 2s 579ms/step - loss: 0.5611 - acc: 0.7833\n",
      "Epoch 3/100\n",
      "3/3 [==============================] - 2s 593ms/step - loss: 0.5603 - acc: 0.7750\n",
      "Epoch 4/100\n",
      "3/3 [==============================] - 2s 569ms/step - loss: 0.5580 - acc: 0.7792\n",
      "Epoch 5/100\n",
      "3/3 [==============================] - 2s 583ms/step - loss: 0.5315 - acc: 0.7917\n",
      "Epoch 6/100\n",
      "3/3 [==============================] - 2s 557ms/step - loss: 0.5749 - acc: 0.8042\n",
      "Epoch 7/100\n",
      "3/3 [==============================] - 2s 553ms/step - loss: 0.5341 - acc: 0.7917\n",
      "Epoch 8/100\n",
      "3/3 [==============================] - 2s 556ms/step - loss: 0.5195 - acc: 0.7917\n",
      "Epoch 9/100\n",
      "3/3 [==============================] - 2s 565ms/step - loss: 0.5487 - acc: 0.7875\n",
      "Epoch 10/100\n",
      "3/3 [==============================] - 2s 560ms/step - loss: 0.5354 - acc: 0.7875\n",
      "Epoch 11/100\n",
      "3/3 [==============================] - 2s 588ms/step - loss: 0.5328 - acc: 0.7958\n",
      "Epoch 12/100\n",
      "3/3 [==============================] - 2s 550ms/step - loss: 0.5378 - acc: 0.7833\n",
      "Epoch 13/100\n",
      "3/3 [==============================] - 2s 556ms/step - loss: 0.5616 - acc: 0.7958\n",
      "Epoch 14/100\n",
      "3/3 [==============================] - 2s 559ms/step - loss: 0.5380 - acc: 0.7833\n",
      "Epoch 15/100\n",
      "3/3 [==============================] - 2s 558ms/step - loss: 0.5377 - acc: 0.7958\n",
      "Epoch 16/100\n",
      "3/3 [==============================] - 2s 551ms/step - loss: 0.5148 - acc: 0.7833\n",
      "Epoch 17/100\n",
      "3/3 [==============================] - 2s 555ms/step - loss: 0.5349 - acc: 0.7750\n",
      "Epoch 18/100\n",
      "3/3 [==============================] - 2s 555ms/step - loss: 0.5380 - acc: 0.8000\n",
      "Epoch 19/100\n",
      "3/3 [==============================] - 2s 558ms/step - loss: 0.5187 - acc: 0.7917\n",
      "Epoch 20/100\n",
      "3/3 [==============================] - 2s 561ms/step - loss: 0.5158 - acc: 0.8000\n",
      "Epoch 21/100\n",
      "3/3 [==============================] - 2s 560ms/step - loss: 0.5286 - acc: 0.7875\n",
      "Epoch 22/100\n",
      "3/3 [==============================] - 2s 557ms/step - loss: 0.5173 - acc: 0.8000\n",
      "Epoch 23/100\n",
      "3/3 [==============================] - 2s 574ms/step - loss: 0.5163 - acc: 0.7875\n",
      "Epoch 24/100\n",
      "3/3 [==============================] - 2s 556ms/step - loss: 0.5223 - acc: 0.7917\n",
      "Epoch 25/100\n",
      "3/3 [==============================] - 2s 555ms/step - loss: 0.5200 - acc: 0.7917\n",
      "Epoch 26/100\n",
      "3/3 [==============================] - 2s 604ms/step - loss: 0.5163 - acc: 0.7917\n",
      "Epoch 27/100\n",
      "3/3 [==============================] - 2s 608ms/step - loss: 0.5418 - acc: 0.7833\n",
      "Epoch 28/100\n",
      "3/3 [==============================] - 2s 599ms/step - loss: 0.4853 - acc: 0.7792\n",
      "Epoch 29/100\n",
      "3/3 [==============================] - 2s 580ms/step - loss: 0.5331 - acc: 0.7917\n",
      "Epoch 30/100\n",
      "3/3 [==============================] - 2s 547ms/step - loss: 0.4991 - acc: 0.7917\n",
      "Epoch 31/100\n",
      "3/3 [==============================] - 2s 566ms/step - loss: 0.4882 - acc: 0.8125\n",
      "Epoch 32/100\n",
      "3/3 [==============================] - 2s 606ms/step - loss: 0.4841 - acc: 0.8083\n",
      "Epoch 33/100\n",
      "3/3 [==============================] - 2s 587ms/step - loss: 0.4944 - acc: 0.7958\n",
      "Epoch 34/100\n",
      "3/3 [==============================] - 2s 584ms/step - loss: 0.5269 - acc: 0.7667\n",
      "Epoch 35/100\n",
      "3/3 [==============================] - 2s 594ms/step - loss: 0.5218 - acc: 0.7833\n",
      "Epoch 36/100\n",
      "3/3 [==============================] - 2s 580ms/step - loss: 0.5062 - acc: 0.7958\n",
      "Epoch 37/100\n",
      "3/3 [==============================] - 2s 572ms/step - loss: 0.5077 - acc: 0.8083\n",
      "Epoch 38/100\n",
      "3/3 [==============================] - 2s 553ms/step - loss: 0.5179 - acc: 0.8000\n",
      "Epoch 39/100\n",
      "3/3 [==============================] - 2s 563ms/step - loss: 0.4786 - acc: 0.8083\n",
      "Epoch 40/100\n",
      "3/3 [==============================] - 2s 565ms/step - loss: 0.5136 - acc: 0.7958\n",
      "Epoch 41/100\n",
      "3/3 [==============================] - 2s 601ms/step - loss: 0.5569 - acc: 0.7667\n",
      "Epoch 42/100\n",
      "3/3 [==============================] - 2s 577ms/step - loss: 0.5059 - acc: 0.7958\n",
      "Epoch 43/100\n",
      "3/3 [==============================] - 2s 559ms/step - loss: 0.4913 - acc: 0.8000\n",
      "Epoch 44/100\n",
      "3/3 [==============================] - 2s 568ms/step - loss: 0.5038 - acc: 0.7792\n",
      "Epoch 45/100\n",
      "3/3 [==============================] - 2s 560ms/step - loss: 0.5138 - acc: 0.7875\n",
      "Epoch 46/100\n",
      "3/3 [==============================] - 2s 573ms/step - loss: 0.4892 - acc: 0.7792\n",
      "Epoch 47/100\n",
      "3/3 [==============================] - 2s 587ms/step - loss: 0.4941 - acc: 0.7833\n",
      "Epoch 48/100\n",
      "3/3 [==============================] - 2s 563ms/step - loss: 0.5104 - acc: 0.7792\n",
      "Epoch 49/100\n",
      "3/3 [==============================] - 2s 566ms/step - loss: 0.4900 - acc: 0.7917\n",
      "Epoch 50/100\n",
      "3/3 [==============================] - 2s 567ms/step - loss: 0.5192 - acc: 0.7833\n",
      "Epoch 51/100\n",
      "3/3 [==============================] - 2s 556ms/step - loss: 0.4740 - acc: 0.8000\n",
      "Epoch 52/100\n",
      "3/3 [==============================] - 2s 568ms/step - loss: 0.4967 - acc: 0.7917\n",
      "Epoch 53/100\n",
      "3/3 [==============================] - 2s 603ms/step - loss: 0.5054 - acc: 0.8042\n",
      "Epoch 54/100\n",
      "3/3 [==============================] - 2s 560ms/step - loss: 0.5232 - acc: 0.7792\n",
      "Epoch 55/100\n",
      "3/3 [==============================] - 2s 568ms/step - loss: 0.5004 - acc: 0.7917\n",
      "Epoch 56/100\n",
      "3/3 [==============================] - 2s 565ms/step - loss: 0.5016 - acc: 0.7917\n",
      "Epoch 57/100\n",
      "3/3 [==============================] - 2s 567ms/step - loss: 0.4729 - acc: 0.8167\n",
      "Epoch 58/100\n",
      "3/3 [==============================] - 2s 560ms/step - loss: 0.5047 - acc: 0.7875\n",
      "Epoch 59/100\n",
      "3/3 [==============================] - 2s 551ms/step - loss: 0.4984 - acc: 0.8000\n",
      "Epoch 60/100\n",
      "3/3 [==============================] - 2s 555ms/step - loss: 0.4859 - acc: 0.7833\n",
      "Epoch 61/100\n",
      "3/3 [==============================] - 2s 552ms/step - loss: 0.4923 - acc: 0.8000\n",
      "Epoch 62/100\n",
      "3/3 [==============================] - 2s 557ms/step - loss: 0.4796 - acc: 0.7875\n",
      "Epoch 63/100\n",
      "3/3 [==============================] - 2s 565ms/step - loss: 0.4665 - acc: 0.8083\n",
      "Epoch 64/100\n",
      "3/3 [==============================] - 2s 567ms/step - loss: 0.4934 - acc: 0.7833\n",
      "Epoch 65/100\n",
      "3/3 [==============================] - 2s 566ms/step - loss: 0.5276 - acc: 0.7958\n",
      "Epoch 66/100\n",
      "3/3 [==============================] - 2s 555ms/step - loss: 0.5013 - acc: 0.8125\n",
      "Epoch 67/100\n",
      "3/3 [==============================] - 2s 558ms/step - loss: 0.4862 - acc: 0.8042\n",
      "Epoch 68/100\n",
      "3/3 [==============================] - 2s 566ms/step - loss: 0.5165 - acc: 0.7917\n",
      "Epoch 69/100\n",
      "3/3 [==============================] - 2s 562ms/step - loss: 0.5283 - acc: 0.7750\n",
      "Epoch 70/100\n",
      "3/3 [==============================] - 2s 568ms/step - loss: 0.4673 - acc: 0.7917\n",
      "Epoch 71/100\n",
      "3/3 [==============================] - 2s 551ms/step - loss: 0.4867 - acc: 0.7958\n",
      "Epoch 72/100\n",
      "3/3 [==============================] - 2s 559ms/step - loss: 0.4847 - acc: 0.7958\n",
      "Epoch 73/100\n",
      "3/3 [==============================] - 2s 562ms/step - loss: 0.4863 - acc: 0.7917\n",
      "Epoch 74/100\n",
      "3/3 [==============================] - 2s 559ms/step - loss: 0.4906 - acc: 0.8000\n",
      "Epoch 75/100\n",
      "3/3 [==============================] - 2s 567ms/step - loss: 0.4757 - acc: 0.8083\n",
      "Epoch 76/100\n",
      "3/3 [==============================] - 2s 569ms/step - loss: 0.5005 - acc: 0.8042\n",
      "Epoch 77/100\n",
      "3/3 [==============================] - 2s 571ms/step - loss: 0.4732 - acc: 0.8000\n",
      "Epoch 78/100\n",
      "3/3 [==============================] - 2s 573ms/step - loss: 0.5295 - acc: 0.7833\n",
      "Epoch 79/100\n",
      "3/3 [==============================] - 2s 553ms/step - loss: 0.5061 - acc: 0.7958\n",
      "Epoch 80/100\n",
      "3/3 [==============================] - 2s 553ms/step - loss: 0.4994 - acc: 0.8000\n",
      "Epoch 81/100\n",
      "3/3 [==============================] - 2s 576ms/step - loss: 0.4913 - acc: 0.7958\n",
      "Epoch 82/100\n",
      "3/3 [==============================] - 1s 474ms/step - loss: 0.5004 - acc: 0.7816\n",
      "Epoch 83/100\n",
      "3/3 [==============================] - 2s 642ms/step - loss: 0.4981 - acc: 0.7875\n",
      "Epoch 84/100\n",
      "3/3 [==============================] - 2s 603ms/step - loss: 0.4568 - acc: 0.8250\n",
      "Epoch 85/100\n",
      "3/3 [==============================] - 2s 565ms/step - loss: 0.5069 - acc: 0.8042\n",
      "Epoch 86/100\n",
      "3/3 [==============================] - 2s 559ms/step - loss: 0.4994 - acc: 0.7833\n",
      "Epoch 87/100\n"
     ]
    },
    {
     "name": "stdout",
     "output_type": "stream",
     "text": [
      "3/3 [==============================] - 2s 557ms/step - loss: 0.5324 - acc: 0.7917\n",
      "Epoch 88/100\n",
      "3/3 [==============================] - 2s 553ms/step - loss: 0.5116 - acc: 0.8000\n",
      "Epoch 89/100\n",
      "3/3 [==============================] - 2s 557ms/step - loss: 0.5035 - acc: 0.7750\n",
      "Epoch 90/100\n",
      "3/3 [==============================] - 2s 561ms/step - loss: 0.4934 - acc: 0.7917\n",
      "Epoch 91/100\n",
      "3/3 [==============================] - 2s 565ms/step - loss: 0.5122 - acc: 0.7958\n",
      "Epoch 92/100\n",
      "3/3 [==============================] - 2s 553ms/step - loss: 0.4980 - acc: 0.8042\n",
      "Epoch 93/100\n",
      "3/3 [==============================] - 2s 563ms/step - loss: 0.5057 - acc: 0.7875\n",
      "Epoch 94/100\n",
      "3/3 [==============================] - 2s 559ms/step - loss: 0.4947 - acc: 0.7958\n",
      "Epoch 95/100\n",
      "3/3 [==============================] - 2s 550ms/step - loss: 0.4906 - acc: 0.7917\n",
      "Epoch 96/100\n",
      "3/3 [==============================] - 2s 561ms/step - loss: 0.4612 - acc: 0.7958\n",
      "Epoch 97/100\n",
      "3/3 [==============================] - 2s 558ms/step - loss: 0.4912 - acc: 0.8083\n",
      "Epoch 98/100\n",
      "3/3 [==============================] - 2s 564ms/step - loss: 0.4676 - acc: 0.8208\n",
      "Epoch 99/100\n",
      "3/3 [==============================] - 2s 562ms/step - loss: 0.4765 - acc: 0.8000\n",
      "Epoch 100/100\n",
      "3/3 [==============================] - 2s 558ms/step - loss: 0.4582 - acc: 0.8167\n"
     ]
    }
   ],
   "source": [
    "# from keras.models import Sequential # How layers interact (x -> y)\n",
    "# from keras.layers import Dense      # Type of layer (what you feed your data into)\n",
    "\n",
    "from keras.models import Sequential\n",
    "from keras.layers import Conv2D, MaxPooling2D\n",
    "from keras.layers import Activation, Dropout, Flatten, Dense, Reshape\n",
    "from keras import backend as K\n",
    "\n",
    "img_width, img_height = 224, 224\n",
    "\n",
    "if K.image_data_format() == 'channels_first':\n",
    "    input_shape = (3, img_width, img_height)\n",
    "else:\n",
    "    input_shape = (img_width, img_height, 3)\n",
    "    \n",
    "model = Sequential()\n",
    "# model.add(Reshape(img_width*img_height*3, input_shape=input_shape))\n",
    "model.add(Conv2D(32, (3, 3), input_shape=(224,224,1)))\n",
    "model.add(Activation('relu'))\n",
    "model.add(MaxPooling2D(pool_size=(2, 2)))\n",
    "\n",
    "model.add(Conv2D(32, (3, 3)))\n",
    "model.add(Activation('relu'))\n",
    "model.add(MaxPooling2D(pool_size=(2, 2)))\n",
    "\n",
    "model.add(Conv2D(64, (3, 3)))\n",
    "model.add(Activation('relu'))\n",
    "model.add(MaxPooling2D(pool_size=(2, 2)))\n",
    "\n",
    "model.add(Flatten())\n",
    "model.add(Dense(64))\n",
    "model.add(Activation('relu'))\n",
    "model.add(Dropout(0.5))\n",
    "model.add(Dense(5))\n",
    "model.add(Activation('sigmoid'))\n",
    "\n",
    "model.compile(loss='binary_crossentropy',\n",
    "              optimizer='adam',\n",
    "              metrics=['accuracy'])\n",
    "\n",
    "# model = Sequential()\n",
    "# model.add(Dense(units=256, activation=\"softmax\"))\n",
    "\n",
    "# # LATER: Specify input shape!!\n",
    "\n",
    "# #define metrics, loss function (maybe our own?), gradient descent\n",
    "# model.compile(loss = \"categorical_crossentropy\", metrics = [\"accuracy\"], optimizer = \"adam\")\n",
    "\n",
    "# # Train model\n",
    "# model.fit(x_train, y_train, epochs = 1, verbose=1)\n",
    "\n",
    "# Validate\n",
    "\n",
    "# Evaluate\n",
    "\n",
    "results = model.fit_generator(\n",
    "        train_generator,\n",
    "        steps_per_epoch=3,\n",
    "        epochs=100)\n",
    "\n",
    "\n"
   ]
  },
  {
   "cell_type": "code",
   "execution_count": 49,
   "metadata": {},
   "outputs": [
    {
     "data": {
      "image/png": "[encoded data removed]",
      "text/plain": [
       "<Figure size 432x288 with 1 Axes>"
      ]
     },
     "metadata": {},
     "output_type": "display_data"
    },
    {
     "data": {
      "image/png": "[encoded data removed]",
      "text/plain": [
       "<Figure size 432x288 with 1 Axes>"
      ]
     },
     "metadata": {},
     "output_type": "display_data"
    }
   ],
   "source": [
    "import matplotlib.pyplot as plt\n",
    "\n",
    "\n",
    "\n",
    "# Plot training & validation accuracy values\n",
    "plt.plot(results.history['acc'])\n",
    "# plt.plot(results.history['val_acc'])\n",
    "plt.title('Model accuracy')\n",
    "plt.ylabel('Accuracy')\n",
    "plt.xlabel('Epoch')\n",
    "plt.legend(['Train', 'Test'], loc='upper left')\n",
    "plt.show()\n",
    "\n",
    "# Plot training & validation loss values\n",
    "plt.plot(results.history['loss'])\n",
    "# plt.plot(results.history['val_loss'])\n",
    "plt.title('Model loss')\n",
    "plt.ylabel('Loss')\n",
    "plt.xlabel('Epoch')\n",
    "plt.legend(['Train', 'Test'], loc='upper left')\n",
    "plt.show()"
   ]
  },
  {
   "cell_type": "code",
   "execution_count": null,
   "metadata": {},
   "outputs": [],
   "source": [
    "from keras.preprocessing import image\n",
    "import numpy as np\n",
    "\n",
    "# LATER: Add the image net parsing here, then do for-loop\n",
    "# \n",
    "\n",
    "\n",
    "\n",
    "# img_path = 'elephant.jpg'\n",
    "# img = image.load_img(img_path, target_size=(224, 224)) # kil format based on pillow -> loads to certain size\n",
    "# x = image.img_to_array(img)                            \n",
    "# x = np.expand_dims(x, axis=0)                          # making a numpy array\n",
    "\n",
    "preds = model.predict(x)\n",
    "# decode the results into a list of tuples (class, description, probability)\n",
    "# (one such list for each sample in the batch)\n",
    "print('Predicted:', decode_predictions(preds, top=3)[0])\n",
    "# Predicted: [(u'n02504013', u'Indian_elephant', 0.82658225), (u'n01871265', u'tusker', 0.1122357), (u'n02504458', u'African_elephant', 0.061040461)]"
   ]
  },
  {
   "cell_type": "markdown",
   "metadata": {},
   "source": [
    "# Train a model to classify"
   ]
  },
  {
   "cell_type": "code",
   "execution_count": 38,
   "metadata": {},
   "outputs": [
    {
     "ename": "ValueError",
     "evalue": "Error when checking input: expected conv2d_49_input to have shape (224, 224, 1) but got array with shape (224, 224, 3)",
     "output_type": "error",
     "traceback": [
      "\u001b[0;31m---------------------------------------------------------------------------\u001b[0m",
      "\u001b[0;31mValueError\u001b[0m                                Traceback (most recent call last)",
      "\u001b[0;32m<ipython-input-38-2d68c768b432>\u001b[0m in \u001b[0;36m<module>\u001b[0;34m()\u001b[0m\n\u001b[0;32m----> 1\u001b[0;31m \u001b[0mpred\u001b[0m \u001b[0;34m=\u001b[0m \u001b[0mmodel\u001b[0m\u001b[0;34m.\u001b[0m\u001b[0mpredict\u001b[0m\u001b[0;34m(\u001b[0m\u001b[0mx_train\u001b[0m\u001b[0;34m[\u001b[0m\u001b[0;36m1000\u001b[0m\u001b[0;34m:\u001b[0m\u001b[0;36m2000\u001b[0m\u001b[0;34m]\u001b[0m\u001b[0;34m)\u001b[0m\u001b[0;34m\u001b[0m\u001b[0;34m\u001b[0m\u001b[0m\n\u001b[0m",
      "\u001b[0;32m~/miniconda3/lib/python3.6/site-packages/keras/engine/training.py\u001b[0m in \u001b[0;36mpredict\u001b[0;34m(self, x, batch_size, verbose, steps)\u001b[0m\n\u001b[1;32m   1147\u001b[0m                              'argument.')\n\u001b[1;32m   1148\u001b[0m         \u001b[0;31m# Validate user data.\u001b[0m\u001b[0;34m\u001b[0m\u001b[0;34m\u001b[0m\u001b[0;34m\u001b[0m\u001b[0m\n\u001b[0;32m-> 1149\u001b[0;31m         \u001b[0mx\u001b[0m\u001b[0;34m,\u001b[0m \u001b[0m_\u001b[0m\u001b[0;34m,\u001b[0m \u001b[0m_\u001b[0m \u001b[0;34m=\u001b[0m \u001b[0mself\u001b[0m\u001b[0;34m.\u001b[0m\u001b[0m_standardize_user_data\u001b[0m\u001b[0;34m(\u001b[0m\u001b[0mx\u001b[0m\u001b[0;34m)\u001b[0m\u001b[0;34m\u001b[0m\u001b[0;34m\u001b[0m\u001b[0m\n\u001b[0m\u001b[1;32m   1150\u001b[0m         \u001b[0;32mif\u001b[0m \u001b[0mself\u001b[0m\u001b[0;34m.\u001b[0m\u001b[0mstateful\u001b[0m\u001b[0;34m:\u001b[0m\u001b[0;34m\u001b[0m\u001b[0;34m\u001b[0m\u001b[0m\n\u001b[1;32m   1151\u001b[0m             \u001b[0;32mif\u001b[0m \u001b[0mx\u001b[0m\u001b[0;34m[\u001b[0m\u001b[0;36m0\u001b[0m\u001b[0;34m]\u001b[0m\u001b[0;34m.\u001b[0m\u001b[0mshape\u001b[0m\u001b[0;34m[\u001b[0m\u001b[0;36m0\u001b[0m\u001b[0;34m]\u001b[0m \u001b[0;34m>\u001b[0m \u001b[0mbatch_size\u001b[0m \u001b[0;32mand\u001b[0m \u001b[0mx\u001b[0m\u001b[0;34m[\u001b[0m\u001b[0;36m0\u001b[0m\u001b[0;34m]\u001b[0m\u001b[0;34m.\u001b[0m\u001b[0mshape\u001b[0m\u001b[0;34m[\u001b[0m\u001b[0;36m0\u001b[0m\u001b[0;34m]\u001b[0m \u001b[0;34m%\u001b[0m \u001b[0mbatch_size\u001b[0m \u001b[0;34m!=\u001b[0m \u001b[0;36m0\u001b[0m\u001b[0;34m:\u001b[0m\u001b[0;34m\u001b[0m\u001b[0;34m\u001b[0m\u001b[0m\n",
      "\u001b[0;32m~/miniconda3/lib/python3.6/site-packages/keras/engine/training.py\u001b[0m in \u001b[0;36m_standardize_user_data\u001b[0;34m(self, x, y, sample_weight, class_weight, check_array_lengths, batch_size)\u001b[0m\n\u001b[1;32m    749\u001b[0m             \u001b[0mfeed_input_shapes\u001b[0m\u001b[0;34m,\u001b[0m\u001b[0;34m\u001b[0m\u001b[0;34m\u001b[0m\u001b[0m\n\u001b[1;32m    750\u001b[0m             \u001b[0mcheck_batch_axis\u001b[0m\u001b[0;34m=\u001b[0m\u001b[0;32mFalse\u001b[0m\u001b[0;34m,\u001b[0m  \u001b[0;31m# Don't enforce the batch size.\u001b[0m\u001b[0;34m\u001b[0m\u001b[0;34m\u001b[0m\u001b[0m\n\u001b[0;32m--> 751\u001b[0;31m             exception_prefix='input')\n\u001b[0m\u001b[1;32m    752\u001b[0m \u001b[0;34m\u001b[0m\u001b[0m\n\u001b[1;32m    753\u001b[0m         \u001b[0;32mif\u001b[0m \u001b[0my\u001b[0m \u001b[0;32mis\u001b[0m \u001b[0;32mnot\u001b[0m \u001b[0;32mNone\u001b[0m\u001b[0;34m:\u001b[0m\u001b[0;34m\u001b[0m\u001b[0;34m\u001b[0m\u001b[0m\n",
      "\u001b[0;32m~/miniconda3/lib/python3.6/site-packages/keras/engine/training_utils.py\u001b[0m in \u001b[0;36mstandardize_input_data\u001b[0;34m(data, names, shapes, check_batch_axis, exception_prefix)\u001b[0m\n\u001b[1;32m    136\u001b[0m                             \u001b[0;34m': expected '\u001b[0m \u001b[0;34m+\u001b[0m \u001b[0mnames\u001b[0m\u001b[0;34m[\u001b[0m\u001b[0mi\u001b[0m\u001b[0;34m]\u001b[0m \u001b[0;34m+\u001b[0m \u001b[0;34m' to have shape '\u001b[0m \u001b[0;34m+\u001b[0m\u001b[0;34m\u001b[0m\u001b[0;34m\u001b[0m\u001b[0m\n\u001b[1;32m    137\u001b[0m                             \u001b[0mstr\u001b[0m\u001b[0;34m(\u001b[0m\u001b[0mshape\u001b[0m\u001b[0;34m)\u001b[0m \u001b[0;34m+\u001b[0m \u001b[0;34m' but got array with shape '\u001b[0m \u001b[0;34m+\u001b[0m\u001b[0;34m\u001b[0m\u001b[0;34m\u001b[0m\u001b[0m\n\u001b[0;32m--> 138\u001b[0;31m                             str(data_shape))\n\u001b[0m\u001b[1;32m    139\u001b[0m     \u001b[0;32mreturn\u001b[0m \u001b[0mdata\u001b[0m\u001b[0;34m\u001b[0m\u001b[0;34m\u001b[0m\u001b[0m\n\u001b[1;32m    140\u001b[0m \u001b[0;34m\u001b[0m\u001b[0m\n",
      "\u001b[0;31mValueError\u001b[0m: Error when checking input: expected conv2d_49_input to have shape (224, 224, 1) but got array with shape (224, 224, 3)"
     ]
    }
   ],
   "source": [
    "pred = model.predict(x_train[1000:2000])"
   ]
  },
  {
   "cell_type": "code",
   "execution_count": null,
   "metadata": {},
   "outputs": [],
   "source": [
    "pred"
   ]
  },
  {
   "cell_type": "code",
   "execution_count": null,
   "metadata": {},
   "outputs": [],
   "source": [
    "strs = ['n0' + str(int(x)) for x in label_encoder.inverse_transform(pred[0])]\n",
    "outputs = [wnids_to_words[x] for x in strs]"
   ]
  },
  {
   "cell_type": "code",
   "execution_count": null,
   "metadata": {},
   "outputs": [],
   "source": [
    "outputs"
   ]
  },
  {
   "cell_type": "code",
   "execution_count": null,
   "metadata": {},
   "outputs": [],
   "source": [
    "pred"
   ]
  },
  {
   "cell_type": "code",
   "execution_count": null,
   "metadata": {},
   "outputs": [],
   "source": [
    "from keras import backend as K\n",
    "K.tensorflow_backend._get_available_gpus()"
   ]
  },
  {
   "cell_type": "code",
   "execution_count": null,
   "metadata": {},
   "outputs": [],
   "source": []
  }
 ],
 "metadata": {
  "kernelspec": {
   "display_name": "Python 3",
   "language": "python",
   "name": "python3"
  },
  "language_info": {
   "codemirror_mode": {
    "name": "ipython",
    "version": 3
   },
   "file_extension": ".py",
   "mimetype": "text/x-python",
   "name": "python",
   "nbconvert_exporter": "python",
   "pygments_lexer": "ipython3",
   "version": "3.6.8"
  }
 },
 "nbformat": 4,
 "nbformat_minor": 2
}

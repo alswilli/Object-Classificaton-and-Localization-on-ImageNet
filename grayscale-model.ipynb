{
 "cells": [
  {
   "cell_type": "markdown",
   "metadata": {},
   "source": [
    "# Data Pipeline Outline:\n",
    "\n",
    "0. Imports and Configurations\n",
    "1. Load in training and validation data\n",
    "2. Apply data augmentations\n",
    "3. Fit Model & Save Weights\n",
    "4. Testing & Postprocessing (Graphs, Metrics, Output Examples, etc.)\n",
    "\n"
   ]
  },
  {
   "cell_type": "markdown",
   "metadata": {},
   "source": [
    "# 0. Imports and Configurations"
   ]
  },
  {
   "cell_type": "code",
   "execution_count": 37,
   "metadata": {},
   "outputs": [],
   "source": [
    "import numpy as np\n",
    "import os\n",
    "from keras.preprocessing.image import ImageDataGenerator\n",
    "\n",
    "dataPath = 'RealImageNet/ImageNetSubsample/Data/CLS-LOC'\n",
    "trainPath = os.path.join(dataPath, 'train')\n",
    "testPath = os.path.join(dataPath, 'test')\n",
    "validationPath = os.path.join(dataPath, 'val')\n",
    "\n",
    "useGrayscale=False\n",
    "img_width, img_height = 224, 224\n",
    "if useGrayscale:\n",
    "    color_mode='grayscale'\n",
    "    num_channels=1\n",
    "else:\n",
    "    color_mode='rgb'\n",
    "    num_channels=3\n",
    "    \n",
    "saveModel = True\n",
    "modelName = \"model1\""
   ]
  },
  {
   "cell_type": "markdown",
   "metadata": {},
   "source": [
    "# 1. Load Training and Validation Data\n"
   ]
  },
  {
   "cell_type": "code",
   "execution_count": 29,
   "metadata": {},
   "outputs": [
    {
     "name": "stdout",
     "output_type": "stream",
     "text": [
      "Found 5850 images belonging to 5 classes.\n",
      "Found 650 images belonging to 5 classes.\n"
     ]
    }
   ],
   "source": [
    "\n",
    "\n",
    "\n",
    "\n",
    "train_datagen = ImageDataGenerator(rescale=1./255, \n",
    "                                   shear_range=0.2, \n",
    "                                   zoom_range=0.2, \n",
    "                                   horizontal_flip=True, \n",
    "                                   validation_split=0.1)\n",
    "\n",
    "\n",
    "    \n",
    "train_generator = train_datagen.flow_from_directory('RealImageNet/ImageNetSubsample/Data/CLS-LOC/train',\n",
    "                                                   target_size=(img_width, img_height),\n",
    "                                                   batch_size=16,\n",
    "                                                   class_mode='categorical',\n",
    "                                                   color_mode=color_mode,\n",
    "                                                   subset='training')\n",
    "\n",
    "\n",
    "\n",
    "val_generator = train_datagen.flow_from_directory('RealImageNet/ImageNetSubsample/Data/CLS-LOC/train',\n",
    "                                                   target_size=(img_width, img_height),\n",
    "                                                   batch_size=16,\n",
    "                                                   class_mode='categorical',\n",
    "                                                   color_mode='rgb',\n",
    "                                                   subset='validation')\n",
    "\n",
    "\n",
    "\n"
   ]
  },
  {
   "cell_type": "markdown",
   "metadata": {},
   "source": [
    "# 3. Fit Model & Save Weights"
   ]
  },
  {
   "cell_type": "code",
   "execution_count": 35,
   "metadata": {
    "scrolled": true
   },
   "outputs": [
    {
     "name": "stdout",
     "output_type": "stream",
     "text": [
      "Epoch 1/10\n",
      "3/3 [==============================] - 19s 6s/step - loss: 0.6868 - acc: 0.6417 - val_loss: 0.5076 - val_acc: 0.8000\n",
      "Epoch 2/10\n",
      "3/3 [==============================] - 18s 6s/step - loss: 0.5672 - acc: 0.8000 - val_loss: 0.5545 - val_acc: 0.8052\n",
      "Epoch 3/10\n",
      "3/3 [==============================] - 17s 6s/step - loss: 0.5069 - acc: 0.8000 - val_loss: 0.5192 - val_acc: 0.8000\n",
      "Epoch 4/10\n",
      "3/3 [==============================] - 17s 6s/step - loss: 0.4835 - acc: 0.7958 - val_loss: 0.4776 - val_acc: 0.7914\n",
      "Epoch 5/10\n",
      "3/3 [==============================] - 17s 6s/step - loss: 0.4889 - acc: 0.7833 - val_loss: 0.4278 - val_acc: 0.7972\n",
      "Epoch 6/10\n",
      "3/3 [==============================] - 17s 6s/step - loss: 0.4707 - acc: 0.7667 - val_loss: 0.4292 - val_acc: 0.8123\n",
      "Epoch 7/10\n",
      "3/3 [==============================] - 17s 6s/step - loss: 0.4377 - acc: 0.8042 - val_loss: 0.4114 - val_acc: 0.7942\n",
      "Epoch 8/10\n",
      "3/3 [==============================] - 17s 6s/step - loss: 0.4481 - acc: 0.7917 - val_loss: 0.3850 - val_acc: 0.8206\n",
      "Epoch 9/10\n",
      "3/3 [==============================] - 16s 5s/step - loss: 0.3808 - acc: 0.8375 - val_loss: 0.3800 - val_acc: 0.8175\n",
      "Epoch 10/10\n",
      "3/3 [==============================] - 17s 6s/step - loss: 0.4063 - acc: 0.8292 - val_loss: 0.3841 - val_acc: 0.8255\n"
     ]
    }
   ],
   "source": [
    "# from keras.models import Sequential # How layers interact (x -> y)\n",
    "# from keras.layers import Dense      # Type of layer (what you feed your data into)\n",
    "\n",
    "from models.simpleConv import build_model\n",
    "\n",
    "model = build_model(img_width, img_height, num_channels)\n",
    "model.compile(loss='binary_crossentropy',\n",
    "              optimizer='adam',\n",
    "              metrics=['accuracy'])\n",
    "\n",
    "results = model.fit_generator(\n",
    "        train_generator,\n",
    "        validation_data=val_generator,\n",
    "        steps_per_epoch=3,\n",
    "        epochs=10)\n",
    "\n",
    "\n",
    "if saveModel:\n",
    "    model.save(os.path.join('output','saved-models', modelName + '.h5'))"
   ]
  },
  {
   "cell_type": "code",
   "execution_count": 39,
   "metadata": {},
   "outputs": [],
   "source": []
  },
  {
   "cell_type": "markdown",
   "metadata": {},
   "source": [
    "# 4. Testing & Post-Processing (Metrics, Graphs, etc.)"
   ]
  },
  {
   "cell_type": "code",
   "execution_count": 28,
   "metadata": {},
   "outputs": [
    {
     "data": {
      "image/png": "[encoded data removed]",
      "text/plain": [
       "<Figure size 432x288 with 1 Axes>"
      ]
     },
     "metadata": {},
     "output_type": "display_data"
    },
    {
     "data": {
      "image/png": "[encoded data removed]",
      "text/plain": [
       "<Figure size 432x288 with 1 Axes>"
      ]
     },
     "metadata": {},
     "output_type": "display_data"
    }
   ],
   "source": [
    "import matplotlib.pyplot as plt\n",
    "%matplotlib inline\n",
    "\n",
    "\n",
    "# Plot training & validation accuracy values\n",
    "plt.plot(results.history['acc'])\n",
    "plt.plot(results.history['val_acc'])\n",
    "plt.title('Model accuracy')\n",
    "plt.ylabel('Accuracy')\n",
    "plt.xlabel('Epoch')\n",
    "plt.legend(['Train', 'Val'], loc='upper left')\n",
    "plt.show()\n",
    "\n",
    "# Plot training & validation loss values\n",
    "plt.plot(results.history['loss'])\n",
    "plt.plot(results.history['val_loss'])\n",
    "plt.title('Model loss')\n",
    "plt.ylabel('Loss')\n",
    "plt.xlabel('Epoch')\n",
    "plt.legend(['Train', 'Val'], loc='upper left')\n",
    "plt.show()"
   ]
  },
  {
   "cell_type": "code",
   "execution_count": null,
   "metadata": {},
   "outputs": [],
   "source": []
  }
 ],
 "metadata": {
  "kernelspec": {
   "display_name": "Python 3",
   "language": "python",
   "name": "python3"
  },
  "language_info": {
   "codemirror_mode": {
    "name": "ipython",
    "version": 3
   },
   "file_extension": ".py",
   "mimetype": "text/x-python",
   "name": "python",
   "nbconvert_exporter": "python",
   "pygments_lexer": "ipython3",
   "version": "3.6.8"
  }
 },
 "nbformat": 4,
 "nbformat_minor": 2
}

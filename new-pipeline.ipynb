{
 "cells": [
  {
   "cell_type": "code",
   "execution_count": 123,
   "metadata": {},
   "outputs": [
    {
     "name": "stdout",
     "output_type": "stream",
     "text": [
      "The autoreload extension is already loaded. To reload it, use:\n",
      "  %reload_ext autoreload\n",
      "Checking to make sure output directories are created..\n",
      "..done\n"
     ]
    }
   ],
   "source": [
    "%load_ext autoreload\n",
    "%autoreload 2\n",
    "\n",
    "import numpy as np\n",
    "import os\n",
    "import pandas as pd\n",
    "from sklearn.metrics import accuracy_score\n",
    "\n",
    "from keras.preprocessing.image import ImageDataGenerator\n",
    "from keras.preprocessing.image import load_img, img_to_array\n",
    "from keras.models import load_model\n",
    "from keras.preprocessing import image\n",
    "from keras.callbacks import EarlyStopping, ModelCheckpoint\n",
    "\n",
    "from sklearn.preprocessing import LabelBinarizer\n",
    "from sklearn.model_selection import train_test_split\n",
    "\n",
    "import matplotlib.pyplot as plt\n",
    "%matplotlib inline\n",
    "\n",
    "import models.simpleConv as simpleConv\n",
    "from imgaug import augmenters as iaa\n",
    "\n",
    "import h5py\n",
    "from imgaug import augmenters as iaa\n",
    "\n",
    "import preprocessing as pp\n",
    "pp.init()\n",
    "\n",
    "allTrainingFolders = [x for x in os.listdir(pp.trainPath) if x.startswith('n')]\n"
   ]
  },
  {
   "cell_type": "markdown",
   "metadata": {},
   "source": [
    "# Parsing & Data Loading"
   ]
  },
  {
   "cell_type": "code",
   "execution_count": 68,
   "metadata": {},
   "outputs": [],
   "source": [
    "encoder = LabelBinarizer()\n",
    "##MAKE SURE classLabels is set to ALL the folders you will train on, even if doing in batches\n",
    "encoder = encoder.fit(allTrainingFolders) \n",
    "\n",
    "parse = False\n",
    "includeAugmented = True\n",
    "onlyAugmented = False\n",
    "augments = [iaa.GaussianBlur(3.0)]\n",
    "\n",
    "trainingFolders = allTrainingFolders[0:5]\n",
    "\n",
    "if parse:\n",
    "    pp.parseImages(trainingFolders)\n",
    "    \n",
    "#TODO: ADD BATCH SPLITTING HERE. Subset trainingfolders, load and fit. \n",
    "\n",
    "\n",
    "#Load in data\n",
    "x_train, y_train, x_val, y_val = pp.loadH5s(trainingFolders)\n",
    "\n",
    "x_aug = []\n",
    "y_aug = []\n",
    "if includeAugmented:\n",
    "    x_aug, y_aug = pp.augmentData(x_train, y_train, augments = augments)\n",
    "    if onlyAugmented:\n",
    "        x_train = x_aug\n",
    "        y_train = y_aug\n",
    "    else:\n",
    "        x_train.extend(x_aug)\n",
    "        y_train.extend(y_aug)\n",
    "\n",
    "    \n",
    "y_train = encoder.transform(y_train) #call encoder.inverse_transform() to get real class labels\n",
    "y_val = encoder.transform(y_val)\n"
   ]
  },
  {
   "cell_type": "markdown",
   "metadata": {},
   "source": [
    "# MODEL"
   ]
  },
  {
   "cell_type": "code",
   "execution_count": 76,
   "metadata": {},
   "outputs": [
    {
     "name": "stdout",
     "output_type": "stream",
     "text": [
      "Train on 4140 samples, validate on 519 samples\n",
      "Epoch 1/1\n",
      "4140/4140 [==============================] - 271s 65ms/step - loss: 1.0210 - acc: 0.5471 - val_loss: 0.9161 - val_acc: 0.6050\n"
     ]
    }
   ],
   "source": [
    "callbacks = []\n",
    "epochs = 1\n",
    "\n",
    "model = simpleConv.build_model(pp.img_width, pp.img_height, 3)\n",
    "model.compile(loss='categorical_crossentropy', optimizer='adam', metrics=['accuracy'])\n",
    "\n",
    "results = model.fit(np.array(x_train), np.array(y_train), \n",
    "                    validation_data = (np.array(x_val), np.array(y_val)),\n",
    "                    epochs=epochs, verbose=1, callbacks = callbacks)\n"
   ]
  },
  {
   "cell_type": "code",
   "execution_count": 78,
   "metadata": {},
   "outputs": [],
   "source": [
    "predictions = model.predict(np.array(x_val))"
   ]
  },
  {
   "cell_type": "code",
   "execution_count": 92,
   "metadata": {},
   "outputs": [
    {
     "data": {
      "text/plain": [
       "array([0.03294557, 0.00764119, 0.5023323 , 0.26514718, 0.19193377],\n",
       "      dtype=float32)"
      ]
     },
     "execution_count": 92,
     "metadata": {},
     "output_type": "execute_result"
    }
   ],
   "source": [
    "predictions[500]"
   ]
  },
  {
   "cell_type": "code",
   "execution_count": 129,
   "metadata": {},
   "outputs": [],
   "source": [
    "pp.topClasses(predictions[503], encoder.classes_)\n",
    "\n",
    "def predictionsToDataframe(predictions, truth, encoder):\n",
    "    df = pd.DataFrame()\n",
    "    \n",
    "    df['truth'] = [pp.translateID(x) for x in encoder.inverse_transform(truth)]\n",
    "    one = []\n",
    "    two = []\n",
    "    three = []\n",
    "    for p in predictions:\n",
    "        top = pp.topClasses(p, encoder.classes_)\n",
    "        one.append(top[0][0])\n",
    "        two.append(top[1][0])\n",
    "        three.append(top[2][0])\n",
    "        \n",
    "        \n",
    "    df['one'] = one\n",
    "    df['two'] = two\n",
    "    df['three'] = three\n",
    "    return df\n",
    "\n",
    "df = predictionsToDataframe(predictions, y_val, encoder)"
   ]
  },
  {
   "cell_type": "code",
   "execution_count": 140,
   "metadata": {},
   "outputs": [
    {
     "name": "stdout",
     "output_type": "stream",
     "text": [
      "Top-1 accuracy: 0.605009633911368\n",
      "Top-3 accuracy: 0.9460500963391136\n"
     ]
    }
   ],
   "source": [
    "acc = len(df[df.truth == df.one])/len(df)\n",
    "print(\"Top-1 accuracy: {0}\".format(acc))\n",
    "\n",
    "acc = len(df[(df.truth == df.one) | (df.truth == df.two) | (df.truth == df.three) ]) / len(df)\n",
    "print(\"Top-3 accuracy: {0}\".format(acc))\n"
   ]
  },
  {
   "cell_type": "markdown",
   "metadata": {},
   "source": [
    "Steps\n",
    "1. Parse Image Data for all folders that you want to train on\n",
    "2. Load in each batch and repeat:\n",
    "    3. Apply augments to batch, if any\n",
    "    4. Train batch\n",
    "5. Evaluate model. "
   ]
  },
  {
   "cell_type": "code",
   "execution_count": 87,
   "metadata": {},
   "outputs": [
    {
     "data": {
      "text/plain": [
       "array(['n01440764', 'n01443537', 'n01484850', 'n01491361', 'n01494475'],\n",
       "      dtype='<U9')"
      ]
     },
     "execution_count": 87,
     "metadata": {},
     "output_type": "execute_result"
    }
   ],
   "source": []
  },
  {
   "cell_type": "code",
   "execution_count": null,
   "metadata": {},
   "outputs": [],
   "source": []
  }
 ],
 "metadata": {
  "kernelspec": {
   "display_name": "Python 3",
   "language": "python",
   "name": "python3"
  },
  "language_info": {
   "codemirror_mode": {
    "name": "ipython",
    "version": 3
   },
   "file_extension": ".py",
   "mimetype": "text/x-python",
   "name": "python",
   "nbconvert_exporter": "python",
   "pygments_lexer": "ipython3",
   "version": "3.6.8"
  }
 },
 "nbformat": 4,
 "nbformat_minor": 2
}

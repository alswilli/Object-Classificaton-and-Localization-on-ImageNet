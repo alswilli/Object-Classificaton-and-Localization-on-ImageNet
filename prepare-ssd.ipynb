{
 "cells": [
  {
   "cell_type": "markdown",
   "metadata": {},
   "source": [
    "# WHAT THIS DOES\n",
    "\n",
    "1. Creates a folder called 'ssd-imagenet'\n",
    "2. Takes imagenet raw data and converts it into a form for use with the ssd-7 model"
   ]
  },
  {
   "cell_type": "code",
   "execution_count": 1,
   "metadata": {},
   "outputs": [],
   "source": [
    "\n",
    "import os\n",
    "import pandas as pd\n",
    "from sklearn.model_selection import train_test_split\n",
    "from shutil import copyfile\n",
    "\n",
    "from PIL import Image\n",
    "import pickle"
   ]
  },
  {
   "cell_type": "code",
   "execution_count": 23,
   "metadata": {},
   "outputs": [],
   "source": [
    "def boundingBoxesSSD(max_folders=50):\n",
    "    ssd_path = 'ssd-imagenet'\n",
    "    if not os.path.isdir(ssd_path):\n",
    "        os.makedirs(ssd_path)\n",
    "    \n",
    "    path = 'RealImageNet/'\n",
    "    boxesPath = os.path.join(path, \"LOC_train_solution.csv\")\n",
    "    imageBoxes = [line.rstrip('\\n').split(',') for line in open(boxesPath)][1:]\n",
    "    \n",
    "    filenames = []\n",
    "    b1 = []\n",
    "    b2 = []\n",
    "    b3 = []\n",
    "    b4 = []\n",
    "    labels = []\n",
    "\n",
    "\n",
    "    for boxes in imageBoxes:\n",
    "        imageFileName = boxes[0] + \".JPEG\"\n",
    "        boxesSplit = boxes[1].split()\n",
    "    #     print(boxesSplit)\n",
    "\n",
    "        for i in range(0, len(boxesSplit), 5):\n",
    "\n",
    "            box = boxesSplit[i:i+5]\n",
    "            label = box[0]\n",
    "            box = box[1:]\n",
    "            box = [int(b) for b in box]\n",
    "            filenames.append(imageFileName)\n",
    "            b1.append(box[0])\n",
    "            b2.append(box[1])\n",
    "            b3.append(box[2])\n",
    "            b4.append(box[3])\n",
    "            labels.append(label)\n",
    "\n",
    "\n",
    "\n",
    "    df = pd.DataFrame({'image': filenames, 'xmin': b1, 'xmax': b2, 'ymin': b3, 'ymax': b4, 'class_id': labels})\n",
    "    \n",
    "    \n",
    "    \n",
    "\n",
    "        \n",
    "    \n",
    "    valid_images = []\n",
    "    traindir = os.path.join(path, 'ImageNetSubsample', 'Data', 'CLS-LOC', 'train')\n",
    "    \n",
    "    n = 0\n",
    "    for folder in os.listdir(traindir):\n",
    "        if n> max_folders:\n",
    "            break\n",
    "        if folder.startswith('n'):\n",
    "\n",
    "            for f in os.listdir(os.path.join(traindir, folder)):\n",
    "                if f.endswith('.JPEG'):\n",
    "                    valid_images.append(f)\n",
    "                    \n",
    "        n += 1\n",
    "\n",
    "    # valid_images\n",
    "    valid_df = df[df.image.isin(valid_images)]\n",
    "    classes = valid_df.class_id.unique()\n",
    "    mapping = dict(zip(classes, range(len(classes))))\n",
    "    valid_df = valid_df.replace({'class_id': mapping})\n",
    "    \n",
    "    with open(os.path.join(ssd_path, 'class_mapping.pickle'), 'wb') as handle:\n",
    "        pickle.dump(mapping, handle, protocol=pickle.HIGHEST_PROTOCOL)\n",
    "    \n",
    "    \n",
    "    df_train, df_val = train_test_split(valid_df, test_size=0.2)\n",
    "    df_train.to_csv(os.path.join(ssd_path, 'labels_train.csv'), sep=',', index=False)\n",
    "    df_val.to_csv(os.path.join(ssd_path, 'labels_val.csv'), sep=',', index=False)\n",
    "    \n",
    "    \n",
    "    \n",
    "#     outpath = '/Users/matt/work/ucsc/class/cmps240/project/ssd_keras/data/imagenet/'\n",
    "    for img in valid_df.image:\n",
    "        copyfile(os.path.join(traindir, img.split('_')[0], img), os.path.join(ssd_path, img))\n",
    "    \n",
    "    \n",
    "    size = 224\n",
    "    for f in os.listdir(ssd_path):\n",
    "        if f.endswith('.JPEG'):\n",
    "            img = Image.open(os.path.join(ssd_path, f))\n",
    "            img = img.resize((size, size), Image.ANTIALIAS)\n",
    "            img.save(os.path.join(ssd_path, f))\n",
    "            \n",
    "    return valid_df"
   ]
  },
  {
   "cell_type": "code",
   "execution_count": 29,
   "metadata": {},
   "outputs": [],
   "source": [
    "df = boundingBoxesSSD(6)"
   ]
  },
  {
   "cell_type": "code",
   "execution_count": 30,
   "metadata": {},
   "outputs": [
    {
     "data": {
      "text/plain": [
       "{'n01440764': 0,\n",
       " 'n01491361': 1,\n",
       " 'n01484850': 2,\n",
       " 'n01494475': 3,\n",
       " 'n01443537': 4}"
      ]
     },
     "execution_count": 30,
     "metadata": {},
     "output_type": "execute_result"
    }
   ],
   "source": [
    "def readMapping():\n",
    "    d = {}\n",
    "    ssd_path = 'ssd-imagenet'\n",
    "    with open(os.path.join(ssd_path, 'class_mapping.pickle'), 'rb') as handle:\n",
    "        d = pickle.load(handle)\n",
    "    return d\n",
    "\n",
    "readMapping()"
   ]
  },
  {
   "cell_type": "code",
   "execution_count": null,
   "metadata": {},
   "outputs": [],
   "source": []
  }
 ],
 "metadata": {
  "kernelspec": {
   "display_name": "Python 3",
   "language": "python",
   "name": "python3"
  },
  "language_info": {
   "codemirror_mode": {
    "name": "ipython",
    "version": 3
   },
   "file_extension": ".py",
   "mimetype": "text/x-python",
   "name": "python",
   "nbconvert_exporter": "python",
   "pygments_lexer": "ipython3",
   "version": "3.6.8"
  }
 },
 "nbformat": 4,
 "nbformat_minor": 2
}
